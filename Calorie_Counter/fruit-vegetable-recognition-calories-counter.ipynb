{
 "cells": [
  {
   "cell_type": "code",
   "execution_count": null,
   "id": "c3d21987",
   "metadata": {
    "execution": {
     "iopub.execute_input": "2023-06-14T14:44:43.086463Z",
     "iopub.status.busy": "2023-06-14T14:44:43.085795Z",
     "iopub.status.idle": "2023-06-14T14:44:53.728401Z",
     "shell.execute_reply": "2023-06-14T14:44:53.726849Z"
    },
    "papermill": {
     "duration": 10.661174,
     "end_time": "2023-06-14T14:44:53.730955",
     "exception": false,
     "start_time": "2023-06-14T14:44:43.069781",
     "status": "completed"
    },
    "scrolled": true,
    "tags": []
   },
   "outputs": [],
   "source": [
    "import numpy as np\n",
    "import pandas as pd\n",
    "from pathlib import Path\n",
    "import os.path\n",
    "import matplotlib.pyplot as plt\n",
    "import tensorflow as tf\n",
    "from tensorflow.keras.preprocessing.image import load_img,img_to_array\n",
    "print(tf.__version__)"
   ]
  },
  {
   "cell_type": "code",
   "execution_count": null,
   "id": "7fb90af8",
   "metadata": {
    "execution": {
     "iopub.execute_input": "2023-06-14T14:44:53.763468Z",
     "iopub.status.busy": "2023-06-14T14:44:53.762701Z",
     "iopub.status.idle": "2023-06-14T14:44:53.804107Z",
     "shell.execute_reply": "2023-06-14T14:44:53.802794Z"
    },
    "papermill": {
     "duration": 0.060549,
     "end_time": "2023-06-14T14:44:53.807400",
     "exception": false,
     "start_time": "2023-06-14T14:44:53.746851",
     "status": "completed"
    },
    "tags": []
   },
   "outputs": [],
   "source": [
    "# Create a list with the filepaths for training and testing\n",
    "train_dir = Path(r\"/Users/macbookairm2/Desktop/GroupAssignment/Calorie_Counter/Fruit_Dataset/train\")\n",
    "\n",
    "train_filepaths = list(train_dir.glob(r'*/*.jpg'))"
   ]
  },
  {
   "cell_type": "code",
   "execution_count": null,
   "id": "ce742ea4",
   "metadata": {
    "execution": {
     "iopub.execute_input": "2023-06-14T14:44:53.838327Z",
     "iopub.status.busy": "2023-06-14T14:44:53.837926Z",
     "iopub.status.idle": "2023-06-14T14:44:53.871119Z",
     "shell.execute_reply": "2023-06-14T14:44:53.869932Z"
    },
    "papermill": {
     "duration": 0.052154,
     "end_time": "2023-06-14T14:44:53.873836",
     "exception": false,
     "start_time": "2023-06-14T14:44:53.821682",
     "status": "completed"
    },
    "tags": []
   },
   "outputs": [],
   "source": [
    "test_dir = Path(r\"/Users/macbookairm2/Desktop/GroupAssignment/Calorie_Counter/Fruit_Dataset/test\")\n",
    "test_filepaths = list(test_dir.glob(r'*/*.jpg'))"
   ]
  },
  {
   "cell_type": "code",
   "execution_count": null,
   "id": "8cd5525f",
   "metadata": {
    "execution": {
     "iopub.execute_input": "2023-06-14T14:44:53.906347Z",
     "iopub.status.busy": "2023-06-14T14:44:53.905620Z",
     "iopub.status.idle": "2023-06-14T14:44:53.933807Z",
     "shell.execute_reply": "2023-06-14T14:44:53.932833Z"
    },
    "papermill": {
     "duration": 0.04659,
     "end_time": "2023-06-14T14:44:53.936465",
     "exception": false,
     "start_time": "2023-06-14T14:44:53.889875",
     "status": "completed"
    },
    "tags": []
   },
   "outputs": [],
   "source": [
    "val_dir = Path(r\"/Users/macbookairm2/Desktop/GroupAssignment/Calorie_Counter/Fruit_Dataset/validation\")\n",
    "val_filepaths = list(test_dir.glob(r'*/*.jpg'))"
   ]
  },
  {
   "cell_type": "code",
   "execution_count": null,
   "id": "739b3bd5",
   "metadata": {
    "execution": {
     "iopub.execute_input": "2023-06-14T14:44:53.967566Z",
     "iopub.status.busy": "2023-06-14T14:44:53.966915Z",
     "iopub.status.idle": "2023-06-14T14:44:53.974142Z",
     "shell.execute_reply": "2023-06-14T14:44:53.973288Z"
    },
    "papermill": {
     "duration": 0.025615,
     "end_time": "2023-06-14T14:44:53.976537",
     "exception": false,
     "start_time": "2023-06-14T14:44:53.950922",
     "status": "completed"
    },
    "tags": []
   },
   "outputs": [],
   "source": [
    "import os\n",
    "import pandas as pd\n",
    "\n",
    "def image_processing(filepath):\n",
    "    \"\"\" Create a DataFrame with the filepath and the labels of the pictures\n",
    "    \"\"\"\n",
    "\n",
    "    valid_paths = []\n",
    "    labels = []\n",
    "\n",
    "    for path in filepath:\n",
    "        if os.path.exists(path):  # Check if the image file exists\n",
    "            valid_paths.append(path)\n",
    "            labels.append(os.path.basename(os.path.dirname(path)))\n",
    "        else:\n",
    "            print(f\"Invalid path or file does not exist: {path}\")\n",
    "    \n",
    "    filepath_series = pd.Series(valid_paths, name='Filepath').astype(str)\n",
    "    labels_series = pd.Series(labels, name='Label')\n",
    "\n",
    "    # Create DataFrame with filepaths and labels\n",
    "    df = pd.concat([filepath_series, labels_series], axis=1)\n",
    "\n",
    "    # Shuffle the DataFrame and reset index\n",
    "    df = df.sample(frac=1).reset_index(drop=True)\n",
    "    \n",
    "    return df\n"
   ]
  },
  {
   "cell_type": "code",
   "execution_count": null,
   "id": "4a10a3ef",
   "metadata": {
    "execution": {
     "iopub.execute_input": "2023-06-14T14:44:54.008122Z",
     "iopub.status.busy": "2023-06-14T14:44:54.007431Z",
     "iopub.status.idle": "2023-06-14T14:44:54.047728Z",
     "shell.execute_reply": "2023-06-14T14:44:54.046580Z"
    },
    "papermill": {
     "duration": 0.059353,
     "end_time": "2023-06-14T14:44:54.050559",
     "exception": false,
     "start_time": "2023-06-14T14:44:53.991206",
     "status": "completed"
    },
    "tags": []
   },
   "outputs": [],
   "source": [
    "train_df = image_processing(train_filepaths)\n",
    "test_df = image_processing(test_filepaths)\n",
    "val_df = image_processing(val_filepaths)\n"
   ]
  },
  {
   "cell_type": "code",
   "execution_count": null,
   "id": "81624e42",
   "metadata": {
    "execution": {
     "iopub.execute_input": "2023-06-14T14:44:54.082808Z",
     "iopub.status.busy": "2023-06-14T14:44:54.081810Z",
     "iopub.status.idle": "2023-06-14T14:44:54.102119Z",
     "shell.execute_reply": "2023-06-14T14:44:54.101257Z"
    },
    "papermill": {
     "duration": 0.038905,
     "end_time": "2023-06-14T14:44:54.104503",
     "exception": false,
     "start_time": "2023-06-14T14:44:54.065598",
     "status": "completed"
    },
    "tags": []
   },
   "outputs": [],
   "source": [
    "print('-- Training set --\\n')\n",
    "print(f'Number of pictures: {train_df.shape[0]}\\n')\n",
    "print(f'Number of different labels: {len(train_df.Label.unique())}\\n')\n",
    "print(f'Labels: {train_df.Label.unique()}')"
   ]
  },
  {
   "cell_type": "code",
   "execution_count": null,
   "id": "fd6c167a",
   "metadata": {
    "execution": {
     "iopub.execute_input": "2023-06-14T14:44:54.137062Z",
     "iopub.status.busy": "2023-06-14T14:44:54.135878Z",
     "iopub.status.idle": "2023-06-14T14:44:54.161776Z",
     "shell.execute_reply": "2023-06-14T14:44:54.160894Z"
    },
    "papermill": {
     "duration": 0.045633,
     "end_time": "2023-06-14T14:44:54.164691",
     "exception": false,
     "start_time": "2023-06-14T14:44:54.119058",
     "status": "completed"
    },
    "tags": []
   },
   "outputs": [],
   "source": [
    "train_df.head(5)"
   ]
  },
  {
   "cell_type": "code",
   "execution_count": null,
   "id": "547ab39b",
   "metadata": {
    "execution": {
     "iopub.execute_input": "2023-06-14T14:44:54.197496Z",
     "iopub.status.busy": "2023-06-14T14:44:54.196430Z",
     "iopub.status.idle": "2023-06-14T14:45:08.267241Z",
     "shell.execute_reply": "2023-06-14T14:45:08.265916Z"
    },
    "papermill": {
     "duration": 14.09826,
     "end_time": "2023-06-14T14:45:08.278279",
     "exception": false,
     "start_time": "2023-06-14T14:44:54.180019",
     "status": "completed"
    },
    "tags": []
   },
   "outputs": [],
   "source": [
    "# Create a DataFrame with one Label of each category\n",
    "df_unique = train_df.copy().drop_duplicates(subset=[\"Label\"]).reset_index()\n",
    "\n",
    "# Display some pictures of the dataset\n",
    "fig, axes = plt.subplots(nrows=6, ncols=6, figsize=(8, 7),\n",
    "                        subplot_kw={'xticks': [], 'yticks': []})\n",
    "\n",
    "for i, ax in enumerate(axes.flat):\n",
    "    ax.imshow(plt.imread(df_unique.Filepath[i]))\n",
    "    ax.set_title(df_unique.Label[i], fontsize = 12)\n",
    "plt.tight_layout(pad=0.5)\n",
    "plt.show()"
   ]
  },
  {
   "cell_type": "code",
   "execution_count": null,
   "id": "5d4524c2",
   "metadata": {
    "execution": {
     "iopub.execute_input": "2023-06-14T14:45:08.332157Z",
     "iopub.status.busy": "2023-06-14T14:45:08.331176Z",
     "iopub.status.idle": "2023-06-14T14:45:08.336791Z",
     "shell.execute_reply": "2023-06-14T14:45:08.335892Z"
    },
    "papermill": {
     "duration": 0.035571,
     "end_time": "2023-06-14T14:45:08.339166",
     "exception": false,
     "start_time": "2023-06-14T14:45:08.303595",
     "status": "completed"
    },
    "tags": []
   },
   "outputs": [],
   "source": [
    "train_generator = tf.keras.preprocessing.image.ImageDataGenerator(\n",
    "    preprocessing_function=tf.keras.applications.mobilenet_v2.preprocess_input\n",
    ")\n",
    "\n",
    "test_generator = tf.keras.preprocessing.image.ImageDataGenerator(\n",
    "    preprocessing_function=tf.keras.applications.mobilenet_v2.preprocess_input\n",
    ")"
   ]
  },
  {
   "cell_type": "code",
   "execution_count": null,
   "id": "e584adb4",
   "metadata": {
    "execution": {
     "iopub.execute_input": "2023-06-14T14:45:08.393143Z",
     "iopub.status.busy": "2023-06-14T14:45:08.392558Z",
     "iopub.status.idle": "2023-06-14T14:45:09.984570Z",
     "shell.execute_reply": "2023-06-14T14:45:09.983451Z"
    },
    "papermill": {
     "duration": 1.622703,
     "end_time": "2023-06-14T14:45:09.987364",
     "exception": false,
     "start_time": "2023-06-14T14:45:08.364661",
     "status": "completed"
    },
    "tags": []
   },
   "outputs": [],
   "source": [
    "train_images = train_generator.flow_from_dataframe(\n",
    "    dataframe=train_df,\n",
    "    x_col='Filepath',\n",
    "    y_col='Label',\n",
    "    target_size=(224, 224),\n",
    "    color_mode='rgb',\n",
    "    class_mode='categorical',\n",
    "    batch_size=32,\n",
    "    shuffle=True,\n",
    "    seed=0,\n",
    "    rotation_range=30,\n",
    "    zoom_range=0.15,\n",
    "    width_shift_range=0.2,\n",
    "    height_shift_range=0.2,\n",
    "    shear_range=0.15,\n",
    "    horizontal_flip=True,\n",
    "    fill_mode=\"nearest\"\n",
    ")"
   ]
  },
  {
   "cell_type": "code",
   "execution_count": null,
   "id": "9c048d78",
   "metadata": {
    "execution": {
     "iopub.execute_input": "2023-06-14T14:45:10.040469Z",
     "iopub.status.busy": "2023-06-14T14:45:10.039898Z",
     "iopub.status.idle": "2023-06-14T14:45:10.217752Z",
     "shell.execute_reply": "2023-06-14T14:45:10.216430Z"
    },
    "papermill": {
     "duration": 0.207871,
     "end_time": "2023-06-14T14:45:10.220582",
     "exception": false,
     "start_time": "2023-06-14T14:45:10.012711",
     "status": "completed"
    },
    "tags": []
   },
   "outputs": [],
   "source": [
    "val_images = train_generator.flow_from_dataframe(\n",
    "    dataframe=val_df,\n",
    "    x_col='Filepath',\n",
    "    y_col='Label',\n",
    "    target_size=(224, 224),\n",
    "    color_mode='rgb',\n",
    "    class_mode='categorical',\n",
    "    batch_size=32,\n",
    "    shuffle=True,\n",
    "    seed=0,\n",
    "    rotation_range=30,\n",
    "    zoom_range=0.15,\n",
    "    width_shift_range=0.2,\n",
    "    height_shift_range=0.2,\n",
    "    shear_range=0.15,\n",
    "    horizontal_flip=True,\n",
    "    fill_mode=\"nearest\"\n",
    ")"
   ]
  },
  {
   "cell_type": "code",
   "execution_count": null,
   "id": "c57e7a95",
   "metadata": {
    "execution": {
     "iopub.execute_input": "2023-06-14T14:45:10.274180Z",
     "iopub.status.busy": "2023-06-14T14:45:10.273351Z",
     "iopub.status.idle": "2023-06-14T14:45:10.290949Z",
     "shell.execute_reply": "2023-06-14T14:45:10.289936Z"
    },
    "papermill": {
     "duration": 0.047998,
     "end_time": "2023-06-14T14:45:10.294198",
     "exception": false,
     "start_time": "2023-06-14T14:45:10.246200",
     "status": "completed"
    },
    "tags": []
   },
   "outputs": [],
   "source": [
    "test_images = test_generator.flow_from_dataframe(\n",
    "    dataframe=test_df,\n",
    "    x_col='Filepath',\n",
    "    y_col='Label',\n",
    "    target_size=(224, 224),\n",
    "    color_mode='rgb',\n",
    "    class_mode='categorical',\n",
    "    batch_size=32,\n",
    "    shuffle=False\n",
    ")"
   ]
  },
  {
   "cell_type": "code",
   "execution_count": null,
   "id": "f903c48b",
   "metadata": {
    "execution": {
     "iopub.execute_input": "2023-06-14T14:45:10.348592Z",
     "iopub.status.busy": "2023-06-14T14:45:10.347335Z",
     "iopub.status.idle": "2023-06-14T14:45:12.457482Z",
     "shell.execute_reply": "2023-06-14T14:45:12.456220Z"
    },
    "papermill": {
     "duration": 2.139933,
     "end_time": "2023-06-14T14:45:12.460423",
     "exception": false,
     "start_time": "2023-06-14T14:45:10.320490",
     "status": "completed"
    },
    "tags": []
   },
   "outputs": [],
   "source": [
    "pretrained_model = tf.keras.applications.MobileNetV2(\n",
    "    input_shape=(224, 224, 3),\n",
    "    include_top=False,\n",
    "    weights='imagenet',\n",
    "    pooling='avg'\n",
    ")\n",
    "pretrained_model.trainable = False"
   ]
  },
  {
   "cell_type": "code",
   "execution_count": null,
   "id": "c2d628dc",
   "metadata": {
    "execution": {
     "iopub.execute_input": "2023-06-14T14:45:12.513729Z",
     "iopub.status.busy": "2023-06-14T14:45:12.513339Z",
     "iopub.status.idle": "2023-06-14T14:45:12.532509Z",
     "shell.execute_reply": "2023-06-14T14:45:12.531052Z"
    },
    "papermill": {
     "duration": 0.049024,
     "end_time": "2023-06-14T14:45:12.535131",
     "exception": false,
     "start_time": "2023-06-14T14:45:12.486107",
     "status": "completed"
    },
    "tags": []
   },
   "outputs": [],
   "source": [
    "val_images = train_generator.flow_from_dataframe(\n",
    "    dataframe=val_df,\n",
    "    x_col='Filepath',\n",
    "    y_col='Label',\n",
    "    target_size=(224, 224),\n",
    "    color_mode='rgb',\n",
    "    class_mode='categorical',\n",
    "    batch_size=32,\n",
    "    shuffle=True,\n",
    "    seed=0,\n",
    "    rotation_range=30,\n",
    "    zoom_range=0.15,\n",
    "    width_shift_range=0.2,\n",
    "    height_shift_range=0.2,\n",
    "    shear_range=0.15,\n",
    "    horizontal_flip=True,\n",
    "    fill_mode=\"nearest\"\n",
    ")"
   ]
  },
  {
   "cell_type": "code",
   "execution_count": null,
   "id": "c7b7c491",
   "metadata": {
    "execution": {
     "iopub.execute_input": "2023-06-14T14:45:12.590096Z",
     "iopub.status.busy": "2023-06-14T14:45:12.589700Z",
     "iopub.status.idle": "2023-06-14T14:57:06.999387Z",
     "shell.execute_reply": "2023-06-14T14:57:06.998167Z"
    },
    "papermill": {
     "duration": 714.441185,
     "end_time": "2023-06-14T14:57:07.002528",
     "exception": false,
     "start_time": "2023-06-14T14:45:12.561343",
     "status": "completed"
    },
    "tags": []
   },
   "outputs": [],
   "source": [
    "inputs = pretrained_model.input\n",
    "\n",
    "x = tf.keras.layers.Dense(128, activation='relu')(pretrained_model.output)\n",
    "x = tf.keras.layers.Dense(128, activation='relu')(x)\n",
    "\n",
    "outputs = tf.keras.layers.Dense(36, activation='softmax')(x)\n",
    "\n",
    "model = tf.keras.Model(inputs=inputs, outputs=outputs)\n",
    "\n",
    "model.compile(\n",
    "    optimizer='adam',\n",
    "    loss='categorical_crossentropy',\n",
    "    metrics=['accuracy']\n",
    ")\n",
    "\n",
    "history = model.fit(\n",
    "    train_images,\n",
    "    validation_data=val_images,\n",
    "    batch_size = 32,\n",
    "    epochs=5,\n",
    "    callbacks=[\n",
    "        tf.keras.callbacks.EarlyStopping(\n",
    "            monitor='val_loss',\n",
    "            patience=2,\n",
    "            restore_best_weights=True\n",
    "        )\n",
    "    ]\n",
    ")"
   ]
  },
  {
   "cell_type": "code",
   "execution_count": null,
   "id": "694c32c2",
   "metadata": {
    "execution": {
     "iopub.execute_input": "2023-06-14T14:57:07.139013Z",
     "iopub.status.busy": "2023-06-14T14:57:07.138030Z",
     "iopub.status.idle": "2023-06-14T14:57:26.091400Z",
     "shell.execute_reply": "2023-06-14T14:57:26.090226Z"
    },
    "papermill": {
     "duration": 19.023037,
     "end_time": "2023-06-14T14:57:26.093811",
     "exception": false,
     "start_time": "2023-06-14T14:57:07.070774",
     "status": "completed"
    },
    "tags": []
   },
   "outputs": [],
   "source": [
    "# Predict the label of the test_images\n",
    "pred = model.predict(test_images)\n",
    "pred = np.argmax(pred,axis=1)\n",
    "# Map the label\n",
    "labels = (train_images.class_indices)\n",
    "labels = dict((v,k) for k,v in labels.items())\n",
    "pred1 = [labels[k] for k in pred]\n",
    "pred1"
   ]
  },
  {
   "cell_type": "code",
   "execution_count": null,
   "id": "7f54f8ff",
   "metadata": {
    "execution": {
     "iopub.execute_input": "2023-06-14T14:57:26.229354Z",
     "iopub.status.busy": "2023-06-14T14:57:26.228915Z",
     "iopub.status.idle": "2023-06-14T14:57:26.236075Z",
     "shell.execute_reply": "2023-06-14T14:57:26.234856Z"
    },
    "papermill": {
     "duration": 0.078517,
     "end_time": "2023-06-14T14:57:26.238427",
     "exception": false,
     "start_time": "2023-06-14T14:57:26.159910",
     "status": "completed"
    },
    "tags": []
   },
   "outputs": [],
   "source": [
    "def output(location):\n",
    "    img=load_img(location,target_size=(224,224,3))\n",
    "    img=img_to_array(img)\n",
    "    img=img/255\n",
    "    img=np.expand_dims(img,[0])\n",
    "    answer=model.predict(img)\n",
    "    y_class = answer.argmax(axis=-1)\n",
    "    y = \" \".join(str(x) for x in y_class)\n",
    "    y = int(y)\n",
    "    res = labels[y]\n",
    "    return res"
   ]
  },
  {
   "cell_type": "code",
   "execution_count": null,
   "id": "efecb463",
   "metadata": {
    "execution": {
     "iopub.execute_input": "2023-06-14T14:57:26.374016Z",
     "iopub.status.busy": "2023-06-14T14:57:26.373272Z",
     "iopub.status.idle": "2023-06-14T14:57:27.516355Z",
     "shell.execute_reply": "2023-06-14T14:57:27.515102Z"
    },
    "papermill": {
     "duration": 1.214004,
     "end_time": "2023-06-14T14:57:27.518934",
     "exception": false,
     "start_time": "2023-06-14T14:57:26.304930",
     "status": "completed"
    },
    "tags": []
   },
   "outputs": [],
   "source": [
    "img = output(r\"C:\\Users\\admin\\Documents\\TY\\Sem-1\\CV\\Course_project\\archive\\train\\bell pepper\\Image_6.jpg\")\n",
    "img"
   ]
  },
  {
   "cell_type": "code",
   "execution_count": null,
   "id": "c07edeca",
   "metadata": {
    "execution": {
     "iopub.execute_input": "2023-06-14T14:57:27.656442Z",
     "iopub.status.busy": "2023-06-14T14:57:27.655427Z",
     "iopub.status.idle": "2023-06-14T14:57:27.981290Z",
     "shell.execute_reply": "2023-06-14T14:57:27.980174Z"
    },
    "papermill": {
     "duration": 0.398359,
     "end_time": "2023-06-14T14:57:27.984259",
     "exception": false,
     "start_time": "2023-06-14T14:57:27.585900",
     "status": "completed"
    },
    "tags": []
   },
   "outputs": [],
   "source": [
    "# model.save('FV.h5')"
   ]
  },
  {
   "cell_type": "code",
   "execution_count": null,
   "id": "010fa659",
   "metadata": {
    "papermill": {
     "duration": 0.06665,
     "end_time": "2023-06-14T14:57:28.117893",
     "exception": false,
     "start_time": "2023-06-14T14:57:28.051243",
     "status": "completed"
    },
    "tags": []
   },
   "outputs": [],
   "source": []
  },
  {
   "cell_type": "code",
   "execution_count": null,
   "id": "99bba251",
   "metadata": {
    "papermill": {
     "duration": 0.067115,
     "end_time": "2023-06-14T14:57:28.252876",
     "exception": false,
     "start_time": "2023-06-14T14:57:28.185761",
     "status": "completed"
    },
    "tags": []
   },
   "outputs": [],
   "source": []
  },
  {
   "cell_type": "code",
   "execution_count": null,
   "id": "1601ed88",
   "metadata": {
    "papermill": {
     "duration": 0.066022,
     "end_time": "2023-06-14T14:57:28.385470",
     "exception": false,
     "start_time": "2023-06-14T14:57:28.319448",
     "status": "completed"
    },
    "tags": []
   },
   "outputs": [],
   "source": []
  }
 ],
 "metadata": {
  "kernelspec": {
   "display_name": "Python 3 (ipykernel)",
   "language": "python",
   "name": "python3"
  },
  "language_info": {
   "codemirror_mode": {
    "name": "ipython",
    "version": 3
   },
   "file_extension": ".py",
   "mimetype": "text/x-python",
   "name": "python",
   "nbconvert_exporter": "python",
   "pygments_lexer": "ipython3",
   "version": "3.11.7"
  },
  "papermill": {
   "default_parameters": {},
   "duration": 783.25644,
   "end_time": "2023-06-14T14:57:31.252685",
   "environment_variables": {},
   "exception": null,
   "input_path": "__notebook__.ipynb",
   "output_path": "__notebook__.ipynb",
   "parameters": {},
   "start_time": "2023-06-14T14:44:27.996245",
   "version": "2.4.0"
  }
 },
 "nbformat": 4,
 "nbformat_minor": 5
}
